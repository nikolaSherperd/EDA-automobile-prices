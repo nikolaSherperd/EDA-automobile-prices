{
 "cells": [
  {
   "cell_type": "code",
   "execution_count": 2,
   "id": "432aaecf-2221-47de-a984-fb0f4b784b70",
   "metadata": {},
   "outputs": [],
   "source": [
    "import pandas as pd\n"
   ]
  },
  {
   "cell_type": "code",
   "execution_count": 3,
   "id": "8fb7eff6-b854-43aa-9431-c106eea5b46e",
   "metadata": {},
   "outputs": [
    {
     "data": {
      "text/plain": [
       "'2.2.2'"
      ]
     },
     "execution_count": 3,
     "metadata": {},
     "output_type": "execute_result"
    }
   ],
   "source": [
    "pd.__version__"
   ]
  },
  {
   "cell_type": "code",
   "execution_count": 5,
   "id": "edbcfa49-43b8-4682-a596-bab72624d690",
   "metadata": {},
   "outputs": [],
   "source": [
    "df = pd.read_csv('car_fuel_efficiency.csv')"
   ]
  },
  {
   "cell_type": "code",
   "execution_count": null,
   "id": "da46c196-684d-4df9-a9a7-af6e98f5e59a",
   "metadata": {},
   "outputs": [],
   "source": [
    "df."
   ]
  }
 ],
 "metadata": {
  "kernelspec": {
   "display_name": "Python 3 (ipykernel)",
   "language": "python",
   "name": "python3"
  },
  "language_info": {
   "codemirror_mode": {
    "name": "ipython",
    "version": 3
   },
   "file_extension": ".py",
   "mimetype": "text/x-python",
   "name": "python",
   "nbconvert_exporter": "python",
   "pygments_lexer": "ipython3",
   "version": "3.12.5"
  },
  "widgets": {
   "application/vnd.jupyter.widget-state+json": {
    "state": {},
    "version_major": 2,
    "version_minor": 0
   }
  }
 },
 "nbformat": 4,
 "nbformat_minor": 5
}
